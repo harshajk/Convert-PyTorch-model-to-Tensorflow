{
  "cells": [
    {
      "cell_type": "markdown",
      "metadata": {
        "id": "oYYLVKHguJcp"
      },
      "source": [
        "# Open Nueral Network Exchange [ONNX]"
      ]
    },
    {
      "cell_type": "markdown",
      "metadata": {
        "id": "0W503l0z3yhl"
      },
      "source": [
        "### Installing ONNX and other required libraries"
      ]
    },
    {
      "cell_type": "code",
      "execution_count": 1,
      "metadata": {
        "colab": {
          "base_uri": "https://localhost:8080/"
        },
        "id": "vHcTO5Jpk5Bv",
        "outputId": "2d14cd14-efc7-40e8-8981-ab6aab868031"
      },
      "outputs": [
        {
          "name": "stdout",
          "output_type": "stream",
          "text": [
            "Requirement already satisfied: onnx in /home/hjakkamk@ad.analog.com/refs/.venv/lib/python3.10/site-packages (1.16.2)\n",
            "Requirement already satisfied: numpy>=1.20 in /home/hjakkamk@ad.analog.com/refs/.venv/lib/python3.10/site-packages (from onnx) (2.1.1)\n",
            "Requirement already satisfied: protobuf>=3.20.2 in /home/hjakkamk@ad.analog.com/refs/.venv/lib/python3.10/site-packages (from onnx) (5.28.1)\n"
          ]
        }
      ],
      "source": [
        "!pip install onnx"
      ]
    },
    {
      "cell_type": "code",
      "execution_count": 2,
      "metadata": {
        "colab": {
          "base_uri": "https://localhost:8080/"
        },
        "id": "XltrK_M8xZAg",
        "outputId": "5052d02a-6d9a-458e-f3a3-2001b2e83c47"
      },
      "outputs": [
        {
          "name": "stdout",
          "output_type": "stream",
          "text": [
            "Requirement already satisfied: tensorflow-addons in /home/hjakkamk@ad.analog.com/refs/.venv/lib/python3.10/site-packages (0.23.0)\n",
            "Requirement already satisfied: packaging in /home/hjakkamk@ad.analog.com/refs/.venv/lib/python3.10/site-packages (from tensorflow-addons) (24.1)\n",
            "Requirement already satisfied: typeguard<3.0.0,>=2.7 in /home/hjakkamk@ad.analog.com/refs/.venv/lib/python3.10/site-packages (from tensorflow-addons) (2.13.3)\n",
            "fatal: destination path 'onnx-tensorflow' already exists and is not an empty directory.\n"
          ]
        }
      ],
      "source": [
        "!pip install tensorflow-addons\n",
        "!git clone https://github.com/onnx/onnx-tensorflow.git && cd onnx-tensorflow && pip install -e ."
      ]
    },
    {
      "cell_type": "markdown",
      "metadata": {
        "id": "7V6MzGtIkxb5"
      },
      "source": [
        "### Restart Runtime before continuing"
      ]
    },
    {
      "cell_type": "code",
      "execution_count": 3,
      "metadata": {
        "colab": {
          "base_uri": "https://localhost:8080/"
        },
        "id": "3BYiz5J2lGEv",
        "outputId": "683abf76-c077-46fd-b9dc-fb2e550219b3"
      },
      "outputs": [
        {
          "name": "stdout",
          "output_type": "stream",
          "text": [
            "Requirement already satisfied: torchvision in /home/hjakkamk@ad.analog.com/refs/.venv/lib/python3.10/site-packages (0.19.1)\n",
            "Requirement already satisfied: numpy in /home/hjakkamk@ad.analog.com/refs/.venv/lib/python3.10/site-packages (from torchvision) (2.1.1)\n",
            "Requirement already satisfied: torch==2.4.1 in /home/hjakkamk@ad.analog.com/refs/.venv/lib/python3.10/site-packages (from torchvision) (2.4.1)\n",
            "Requirement already satisfied: pillow!=8.3.*,>=5.3.0 in /home/hjakkamk@ad.analog.com/refs/.venv/lib/python3.10/site-packages (from torchvision) (10.4.0)\n",
            "Requirement already satisfied: filelock in /home/hjakkamk@ad.analog.com/refs/.venv/lib/python3.10/site-packages (from torch==2.4.1->torchvision) (3.16.0)\n",
            "Requirement already satisfied: typing-extensions>=4.8.0 in /home/hjakkamk@ad.analog.com/refs/.venv/lib/python3.10/site-packages (from torch==2.4.1->torchvision) (4.12.2)\n",
            "Requirement already satisfied: sympy in /home/hjakkamk@ad.analog.com/refs/.venv/lib/python3.10/site-packages (from torch==2.4.1->torchvision) (1.13.2)\n",
            "Requirement already satisfied: networkx in /home/hjakkamk@ad.analog.com/refs/.venv/lib/python3.10/site-packages (from torch==2.4.1->torchvision) (3.3)\n",
            "Requirement already satisfied: jinja2 in /home/hjakkamk@ad.analog.com/refs/.venv/lib/python3.10/site-packages (from torch==2.4.1->torchvision) (3.1.4)\n",
            "Requirement already satisfied: fsspec in /home/hjakkamk@ad.analog.com/refs/.venv/lib/python3.10/site-packages (from torch==2.4.1->torchvision) (2024.9.0)\n",
            "Requirement already satisfied: nvidia-cuda-nvrtc-cu12==12.1.105 in /home/hjakkamk@ad.analog.com/refs/.venv/lib/python3.10/site-packages (from torch==2.4.1->torchvision) (12.1.105)\n",
            "Requirement already satisfied: nvidia-cuda-runtime-cu12==12.1.105 in /home/hjakkamk@ad.analog.com/refs/.venv/lib/python3.10/site-packages (from torch==2.4.1->torchvision) (12.1.105)\n",
            "Requirement already satisfied: nvidia-cuda-cupti-cu12==12.1.105 in /home/hjakkamk@ad.analog.com/refs/.venv/lib/python3.10/site-packages (from torch==2.4.1->torchvision) (12.1.105)\n",
            "Requirement already satisfied: nvidia-cudnn-cu12==9.1.0.70 in /home/hjakkamk@ad.analog.com/refs/.venv/lib/python3.10/site-packages (from torch==2.4.1->torchvision) (9.1.0.70)\n",
            "Requirement already satisfied: nvidia-cublas-cu12==12.1.3.1 in /home/hjakkamk@ad.analog.com/refs/.venv/lib/python3.10/site-packages (from torch==2.4.1->torchvision) (12.1.3.1)\n",
            "Requirement already satisfied: nvidia-cufft-cu12==11.0.2.54 in /home/hjakkamk@ad.analog.com/refs/.venv/lib/python3.10/site-packages (from torch==2.4.1->torchvision) (11.0.2.54)\n",
            "Requirement already satisfied: nvidia-curand-cu12==10.3.2.106 in /home/hjakkamk@ad.analog.com/refs/.venv/lib/python3.10/site-packages (from torch==2.4.1->torchvision) (10.3.2.106)\n",
            "Requirement already satisfied: nvidia-cusolver-cu12==11.4.5.107 in /home/hjakkamk@ad.analog.com/refs/.venv/lib/python3.10/site-packages (from torch==2.4.1->torchvision) (11.4.5.107)\n",
            "Requirement already satisfied: nvidia-cusparse-cu12==12.1.0.106 in /home/hjakkamk@ad.analog.com/refs/.venv/lib/python3.10/site-packages (from torch==2.4.1->torchvision) (12.1.0.106)\n",
            "Requirement already satisfied: nvidia-nccl-cu12==2.20.5 in /home/hjakkamk@ad.analog.com/refs/.venv/lib/python3.10/site-packages (from torch==2.4.1->torchvision) (2.20.5)\n",
            "Requirement already satisfied: nvidia-nvtx-cu12==12.1.105 in /home/hjakkamk@ad.analog.com/refs/.venv/lib/python3.10/site-packages (from torch==2.4.1->torchvision) (12.1.105)\n",
            "Requirement already satisfied: triton==3.0.0 in /home/hjakkamk@ad.analog.com/refs/.venv/lib/python3.10/site-packages (from torch==2.4.1->torchvision) (3.0.0)\n",
            "Requirement already satisfied: nvidia-nvjitlink-cu12 in /home/hjakkamk@ad.analog.com/refs/.venv/lib/python3.10/site-packages (from nvidia-cusolver-cu12==11.4.5.107->torch==2.4.1->torchvision) (12.6.68)\n",
            "Requirement already satisfied: MarkupSafe>=2.0 in /home/hjakkamk@ad.analog.com/refs/.venv/lib/python3.10/site-packages (from jinja2->torch==2.4.1->torchvision) (2.1.5)\n",
            "Requirement already satisfied: mpmath<1.4,>=1.1.0 in /home/hjakkamk@ad.analog.com/refs/.venv/lib/python3.10/site-packages (from sympy->torch==2.4.1->torchvision) (1.3.0)\n"
          ]
        }
      ],
      "source": [
        "!pip install torchvision"
      ]
    },
    {
      "cell_type": "code",
      "execution_count": 4,
      "metadata": {},
      "outputs": [
        {
          "name": "stdout",
          "output_type": "stream",
          "text": [
            "Requirement already satisfied: onnx-tf in /home/hjakkamk@ad.analog.com/refs/.venv/lib/python3.10/site-packages (1.10.0)\n",
            "Requirement already satisfied: onnx>=1.10.2 in /home/hjakkamk@ad.analog.com/refs/.venv/lib/python3.10/site-packages (from onnx-tf) (1.16.2)\n",
            "Requirement already satisfied: PyYAML in /home/hjakkamk@ad.analog.com/refs/.venv/lib/python3.10/site-packages (from onnx-tf) (6.0.2)\n",
            "Requirement already satisfied: tensorflow-addons in /home/hjakkamk@ad.analog.com/refs/.venv/lib/python3.10/site-packages (from onnx-tf) (0.23.0)\n",
            "Requirement already satisfied: tensorflow-probability in /home/hjakkamk@ad.analog.com/refs/.venv/lib/python3.10/site-packages (from onnx-tf) (0.24.0)\n",
            "Requirement already satisfied: numpy>=1.20 in /home/hjakkamk@ad.analog.com/refs/.venv/lib/python3.10/site-packages (from onnx>=1.10.2->onnx-tf) (2.1.1)\n",
            "Requirement already satisfied: protobuf>=3.20.2 in /home/hjakkamk@ad.analog.com/refs/.venv/lib/python3.10/site-packages (from onnx>=1.10.2->onnx-tf) (5.28.1)\n",
            "Requirement already satisfied: packaging in /home/hjakkamk@ad.analog.com/refs/.venv/lib/python3.10/site-packages (from tensorflow-addons->onnx-tf) (24.1)\n",
            "Requirement already satisfied: typeguard<3.0.0,>=2.7 in /home/hjakkamk@ad.analog.com/refs/.venv/lib/python3.10/site-packages (from tensorflow-addons->onnx-tf) (2.13.3)\n",
            "Requirement already satisfied: absl-py in /home/hjakkamk@ad.analog.com/refs/.venv/lib/python3.10/site-packages (from tensorflow-probability->onnx-tf) (2.1.0)\n",
            "Requirement already satisfied: six>=1.10.0 in /home/hjakkamk@ad.analog.com/refs/.venv/lib/python3.10/site-packages (from tensorflow-probability->onnx-tf) (1.16.0)\n",
            "Requirement already satisfied: decorator in /home/hjakkamk@ad.analog.com/refs/.venv/lib/python3.10/site-packages (from tensorflow-probability->onnx-tf) (5.1.1)\n",
            "Requirement already satisfied: cloudpickle>=1.3 in /home/hjakkamk@ad.analog.com/refs/.venv/lib/python3.10/site-packages (from tensorflow-probability->onnx-tf) (3.0.0)\n",
            "Requirement already satisfied: gast>=0.3.2 in /home/hjakkamk@ad.analog.com/refs/.venv/lib/python3.10/site-packages (from tensorflow-probability->onnx-tf) (0.6.0)\n",
            "Requirement already satisfied: dm-tree in /home/hjakkamk@ad.analog.com/refs/.venv/lib/python3.10/site-packages (from tensorflow-probability->onnx-tf) (0.1.8)\n"
          ]
        }
      ],
      "source": [
        "!pip install onnx-tf"
      ]
    },
    {
      "cell_type": "code",
      "execution_count": 6,
      "metadata": {},
      "outputs": [
        {
          "name": "stdout",
          "output_type": "stream",
          "text": [
            "Collecting tensorflow\n",
            "  Using cached tensorflow-2.17.0-cp310-cp310-manylinux_2_17_x86_64.manylinux2014_x86_64.whl.metadata (4.2 kB)\n",
            "Requirement already satisfied: absl-py>=1.0.0 in /home/hjakkamk@ad.analog.com/refs/.venv/lib/python3.10/site-packages (from tensorflow) (2.1.0)\n",
            "Collecting astunparse>=1.6.0 (from tensorflow)\n",
            "  Using cached astunparse-1.6.3-py2.py3-none-any.whl.metadata (4.4 kB)\n",
            "Collecting flatbuffers>=24.3.25 (from tensorflow)\n",
            "  Using cached flatbuffers-24.3.25-py2.py3-none-any.whl.metadata (850 bytes)\n",
            "Requirement already satisfied: gast!=0.5.0,!=0.5.1,!=0.5.2,>=0.2.1 in /home/hjakkamk@ad.analog.com/refs/.venv/lib/python3.10/site-packages (from tensorflow) (0.6.0)\n",
            "Collecting google-pasta>=0.1.1 (from tensorflow)\n",
            "  Using cached google_pasta-0.2.0-py3-none-any.whl.metadata (814 bytes)\n",
            "Collecting h5py>=3.10.0 (from tensorflow)\n",
            "  Using cached h5py-3.11.0-cp310-cp310-manylinux_2_17_x86_64.manylinux2014_x86_64.whl.metadata (2.5 kB)\n",
            "Collecting libclang>=13.0.0 (from tensorflow)\n",
            "  Using cached libclang-18.1.1-py2.py3-none-manylinux2010_x86_64.whl.metadata (5.2 kB)\n",
            "Collecting ml-dtypes<0.5.0,>=0.3.1 (from tensorflow)\n",
            "  Downloading ml_dtypes-0.4.1-cp310-cp310-manylinux_2_17_x86_64.manylinux2014_x86_64.whl.metadata (20 kB)\n",
            "Collecting opt-einsum>=2.3.2 (from tensorflow)\n",
            "  Using cached opt_einsum-3.3.0-py3-none-any.whl.metadata (6.5 kB)\n",
            "Requirement already satisfied: packaging in /home/hjakkamk@ad.analog.com/refs/.venv/lib/python3.10/site-packages (from tensorflow) (24.1)\n",
            "Collecting protobuf!=4.21.0,!=4.21.1,!=4.21.2,!=4.21.3,!=4.21.4,!=4.21.5,<5.0.0dev,>=3.20.3 (from tensorflow)\n",
            "  Using cached protobuf-4.25.4-cp37-abi3-manylinux2014_x86_64.whl.metadata (541 bytes)\n",
            "Collecting requests<3,>=2.21.0 (from tensorflow)\n",
            "  Using cached requests-2.32.3-py3-none-any.whl.metadata (4.6 kB)\n",
            "Collecting setuptools (from tensorflow)\n",
            "  Using cached setuptools-74.1.2-py3-none-any.whl.metadata (6.7 kB)\n",
            "Requirement already satisfied: six>=1.12.0 in /home/hjakkamk@ad.analog.com/refs/.venv/lib/python3.10/site-packages (from tensorflow) (1.16.0)\n",
            "Collecting termcolor>=1.1.0 (from tensorflow)\n",
            "  Using cached termcolor-2.4.0-py3-none-any.whl.metadata (6.1 kB)\n",
            "Requirement already satisfied: typing-extensions>=3.6.6 in /home/hjakkamk@ad.analog.com/refs/.venv/lib/python3.10/site-packages (from tensorflow) (4.12.2)\n",
            "Collecting wrapt>=1.11.0 (from tensorflow)\n",
            "  Using cached wrapt-1.16.0-cp310-cp310-manylinux_2_5_x86_64.manylinux1_x86_64.manylinux_2_17_x86_64.manylinux2014_x86_64.whl.metadata (6.6 kB)\n",
            "Collecting grpcio<2.0,>=1.24.3 (from tensorflow)\n",
            "  Using cached grpcio-1.66.1-cp310-cp310-manylinux_2_17_x86_64.manylinux2014_x86_64.whl.metadata (3.9 kB)\n",
            "Collecting tensorboard<2.18,>=2.17 (from tensorflow)\n",
            "  Using cached tensorboard-2.17.1-py3-none-any.whl.metadata (1.6 kB)\n",
            "Collecting keras>=3.2.0 (from tensorflow)\n",
            "  Using cached keras-3.5.0-py3-none-any.whl.metadata (5.8 kB)\n",
            "Collecting tensorflow-io-gcs-filesystem>=0.23.1 (from tensorflow)\n",
            "  Using cached tensorflow_io_gcs_filesystem-0.37.1-cp310-cp310-manylinux_2_17_x86_64.manylinux2014_x86_64.whl.metadata (14 kB)\n",
            "Collecting numpy<2.0.0,>=1.23.5 (from tensorflow)\n",
            "  Using cached numpy-1.26.4-cp310-cp310-manylinux_2_17_x86_64.manylinux2014_x86_64.whl.metadata (61 kB)\n",
            "Collecting wheel<1.0,>=0.23.0 (from astunparse>=1.6.0->tensorflow)\n",
            "  Using cached wheel-0.44.0-py3-none-any.whl.metadata (2.3 kB)\n",
            "Collecting rich (from keras>=3.2.0->tensorflow)\n",
            "  Downloading rich-13.8.1-py3-none-any.whl.metadata (18 kB)\n",
            "Collecting namex (from keras>=3.2.0->tensorflow)\n",
            "  Downloading namex-0.0.8-py3-none-any.whl.metadata (246 bytes)\n",
            "Collecting optree (from keras>=3.2.0->tensorflow)\n",
            "  Downloading optree-0.12.1-cp310-cp310-manylinux_2_17_x86_64.manylinux2014_x86_64.whl.metadata (47 kB)\n",
            "Collecting charset-normalizer<4,>=2 (from requests<3,>=2.21.0->tensorflow)\n",
            "  Using cached charset_normalizer-3.3.2-cp310-cp310-manylinux_2_17_x86_64.manylinux2014_x86_64.whl.metadata (33 kB)\n",
            "Collecting idna<4,>=2.5 (from requests<3,>=2.21.0->tensorflow)\n",
            "  Downloading idna-3.9-py3-none-any.whl.metadata (10 kB)\n",
            "Collecting urllib3<3,>=1.21.1 (from requests<3,>=2.21.0->tensorflow)\n",
            "  Downloading urllib3-2.2.3-py3-none-any.whl.metadata (6.5 kB)\n",
            "Collecting certifi>=2017.4.17 (from requests<3,>=2.21.0->tensorflow)\n",
            "  Using cached certifi-2024.8.30-py3-none-any.whl.metadata (2.2 kB)\n",
            "Collecting markdown>=2.6.8 (from tensorboard<2.18,>=2.17->tensorflow)\n",
            "  Using cached Markdown-3.7-py3-none-any.whl.metadata (7.0 kB)\n",
            "Collecting tensorboard-data-server<0.8.0,>=0.7.0 (from tensorboard<2.18,>=2.17->tensorflow)\n",
            "  Using cached tensorboard_data_server-0.7.2-py3-none-manylinux_2_31_x86_64.whl.metadata (1.1 kB)\n",
            "Collecting werkzeug>=1.0.1 (from tensorboard<2.18,>=2.17->tensorflow)\n",
            "  Using cached werkzeug-3.0.4-py3-none-any.whl.metadata (3.7 kB)\n",
            "Requirement already satisfied: MarkupSafe>=2.1.1 in /home/hjakkamk@ad.analog.com/refs/.venv/lib/python3.10/site-packages (from werkzeug>=1.0.1->tensorboard<2.18,>=2.17->tensorflow) (2.1.5)\n",
            "Collecting markdown-it-py>=2.2.0 (from rich->keras>=3.2.0->tensorflow)\n",
            "  Downloading markdown_it_py-3.0.0-py3-none-any.whl.metadata (6.9 kB)\n",
            "Requirement already satisfied: pygments<3.0.0,>=2.13.0 in /home/hjakkamk@ad.analog.com/refs/.venv/lib/python3.10/site-packages (from rich->keras>=3.2.0->tensorflow) (2.18.0)\n",
            "Collecting mdurl~=0.1 (from markdown-it-py>=2.2.0->rich->keras>=3.2.0->tensorflow)\n",
            "  Downloading mdurl-0.1.2-py3-none-any.whl.metadata (1.6 kB)\n",
            "Downloading tensorflow-2.17.0-cp310-cp310-manylinux_2_17_x86_64.manylinux2014_x86_64.whl (601.3 MB)\n",
            "\u001b[2K   \u001b[90m━━━━━━━━━━━━━━━━━━━━━━━━━━━━━━━━━━━━━━━━\u001b[0m \u001b[32m601.3/601.3 MB\u001b[0m \u001b[31m31.7 MB/s\u001b[0m eta \u001b[36m0:00:00\u001b[0m00:01\u001b[0m00:01\u001b[0m\n",
            "\u001b[?25hUsing cached astunparse-1.6.3-py2.py3-none-any.whl (12 kB)\n",
            "Using cached flatbuffers-24.3.25-py2.py3-none-any.whl (26 kB)\n",
            "Using cached google_pasta-0.2.0-py3-none-any.whl (57 kB)\n",
            "Using cached grpcio-1.66.1-cp310-cp310-manylinux_2_17_x86_64.manylinux2014_x86_64.whl (5.7 MB)\n",
            "Using cached h5py-3.11.0-cp310-cp310-manylinux_2_17_x86_64.manylinux2014_x86_64.whl (5.3 MB)\n",
            "Downloading keras-3.5.0-py3-none-any.whl (1.1 MB)\n",
            "\u001b[2K   \u001b[90m━━━━━━━━━━━━━━━━━━━━━━━━━━━━━━━━━━━━━━━━\u001b[0m \u001b[32m1.1/1.1 MB\u001b[0m \u001b[31m87.3 MB/s\u001b[0m eta \u001b[36m0:00:00\u001b[0m\n",
            "\u001b[?25hUsing cached libclang-18.1.1-py2.py3-none-manylinux2010_x86_64.whl (24.5 MB)\n",
            "Downloading ml_dtypes-0.4.1-cp310-cp310-manylinux_2_17_x86_64.manylinux2014_x86_64.whl (2.2 MB)\n",
            "\u001b[2K   \u001b[90m━━━━━━━━━━━━━━━━━━━━━━━━━━━━━━━━━━━━━━━━\u001b[0m \u001b[32m2.2/2.2 MB\u001b[0m \u001b[31m78.2 MB/s\u001b[0m eta \u001b[36m0:00:00\u001b[0m\n",
            "\u001b[?25hUsing cached numpy-1.26.4-cp310-cp310-manylinux_2_17_x86_64.manylinux2014_x86_64.whl (18.2 MB)\n",
            "Using cached opt_einsum-3.3.0-py3-none-any.whl (65 kB)\n",
            "Using cached protobuf-4.25.4-cp37-abi3-manylinux2014_x86_64.whl (294 kB)\n",
            "Using cached requests-2.32.3-py3-none-any.whl (64 kB)\n",
            "Downloading tensorboard-2.17.1-py3-none-any.whl (5.5 MB)\n",
            "\u001b[2K   \u001b[90m━━━━━━━━━━━━━━━━━━━━━━━━━━━━━━━━━━━━━━━━\u001b[0m \u001b[32m5.5/5.5 MB\u001b[0m \u001b[31m40.7 MB/s\u001b[0m eta \u001b[36m0:00:00\u001b[0m\n",
            "\u001b[?25hUsing cached setuptools-74.1.2-py3-none-any.whl (1.3 MB)\n",
            "Using cached tensorflow_io_gcs_filesystem-0.37.1-cp310-cp310-manylinux_2_17_x86_64.manylinux2014_x86_64.whl (5.1 MB)\n",
            "Using cached termcolor-2.4.0-py3-none-any.whl (7.7 kB)\n",
            "Downloading wrapt-1.16.0-cp310-cp310-manylinux_2_5_x86_64.manylinux1_x86_64.manylinux_2_17_x86_64.manylinux2014_x86_64.whl (80 kB)\n",
            "Using cached certifi-2024.8.30-py3-none-any.whl (167 kB)\n",
            "Using cached charset_normalizer-3.3.2-cp310-cp310-manylinux_2_17_x86_64.manylinux2014_x86_64.whl (142 kB)\n",
            "Downloading idna-3.9-py3-none-any.whl (71 kB)\n",
            "Using cached Markdown-3.7-py3-none-any.whl (106 kB)\n",
            "Using cached tensorboard_data_server-0.7.2-py3-none-manylinux_2_31_x86_64.whl (6.6 MB)\n",
            "Downloading urllib3-2.2.3-py3-none-any.whl (126 kB)\n",
            "Using cached werkzeug-3.0.4-py3-none-any.whl (227 kB)\n",
            "Using cached wheel-0.44.0-py3-none-any.whl (67 kB)\n",
            "Downloading namex-0.0.8-py3-none-any.whl (5.8 kB)\n",
            "Downloading optree-0.12.1-cp310-cp310-manylinux_2_17_x86_64.manylinux2014_x86_64.whl (347 kB)\n",
            "Downloading rich-13.8.1-py3-none-any.whl (241 kB)\n",
            "Downloading markdown_it_py-3.0.0-py3-none-any.whl (87 kB)\n",
            "Downloading mdurl-0.1.2-py3-none-any.whl (10.0 kB)\n",
            "Installing collected packages: namex, libclang, flatbuffers, wrapt, wheel, werkzeug, urllib3, termcolor, tensorflow-io-gcs-filesystem, tensorboard-data-server, setuptools, protobuf, optree, numpy, mdurl, markdown, idna, grpcio, google-pasta, charset-normalizer, certifi, tensorboard, requests, opt-einsum, ml-dtypes, markdown-it-py, h5py, astunparse, rich, keras, tensorflow\n",
            "  Attempting uninstall: protobuf\n",
            "    Found existing installation: protobuf 5.28.1\n",
            "    Uninstalling protobuf-5.28.1:\n",
            "      Successfully uninstalled protobuf-5.28.1\n",
            "  Attempting uninstall: numpy\n",
            "    Found existing installation: numpy 2.1.1\n",
            "    Uninstalling numpy-2.1.1:\n",
            "      Successfully uninstalled numpy-2.1.1\n",
            "Successfully installed astunparse-1.6.3 certifi-2024.8.30 charset-normalizer-3.3.2 flatbuffers-24.3.25 google-pasta-0.2.0 grpcio-1.66.1 h5py-3.11.0 idna-3.9 keras-3.5.0 libclang-18.1.1 markdown-3.7 markdown-it-py-3.0.0 mdurl-0.1.2 ml-dtypes-0.4.1 namex-0.0.8 numpy-1.26.4 opt-einsum-3.3.0 optree-0.12.1 protobuf-4.25.4 requests-2.32.3 rich-13.8.1 setuptools-74.1.2 tensorboard-2.17.1 tensorboard-data-server-0.7.2 tensorflow-2.17.0 tensorflow-io-gcs-filesystem-0.37.1 termcolor-2.4.0 urllib3-2.2.3 werkzeug-3.0.4 wheel-0.44.0 wrapt-1.16.0\n"
          ]
        }
      ],
      "source": [
        "!pip install tensorflow"
      ]
    },
    {
      "cell_type": "code",
      "execution_count": 2,
      "metadata": {},
      "outputs": [
        {
          "name": "stdout",
          "output_type": "stream",
          "text": [
            "Requirement already satisfied: tensorflow-probability[tf] in /home/hjakkamk@ad.analog.com/refs/.venv/lib/python3.10/site-packages (0.24.0)\n",
            "Requirement already satisfied: absl-py in /home/hjakkamk@ad.analog.com/refs/.venv/lib/python3.10/site-packages (from tensorflow-probability[tf]) (2.1.0)\n",
            "Requirement already satisfied: six>=1.10.0 in /home/hjakkamk@ad.analog.com/refs/.venv/lib/python3.10/site-packages (from tensorflow-probability[tf]) (1.16.0)\n",
            "Requirement already satisfied: numpy>=1.13.3 in /home/hjakkamk@ad.analog.com/refs/.venv/lib/python3.10/site-packages (from tensorflow-probability[tf]) (1.26.4)\n",
            "Requirement already satisfied: decorator in /home/hjakkamk@ad.analog.com/refs/.venv/lib/python3.10/site-packages (from tensorflow-probability[tf]) (5.1.1)\n",
            "Requirement already satisfied: cloudpickle>=1.3 in /home/hjakkamk@ad.analog.com/refs/.venv/lib/python3.10/site-packages (from tensorflow-probability[tf]) (3.0.0)\n",
            "Requirement already satisfied: gast>=0.3.2 in /home/hjakkamk@ad.analog.com/refs/.venv/lib/python3.10/site-packages (from tensorflow-probability[tf]) (0.6.0)\n",
            "Requirement already satisfied: dm-tree in /home/hjakkamk@ad.analog.com/refs/.venv/lib/python3.10/site-packages (from tensorflow-probability[tf]) (0.1.8)\n",
            "Requirement already satisfied: tensorflow>=2.16 in /home/hjakkamk@ad.analog.com/refs/.venv/lib/python3.10/site-packages (from tensorflow-probability[tf]) (2.17.0)\n",
            "Collecting tf-keras>=2.16 (from tensorflow-probability[tf])\n",
            "  Downloading tf_keras-2.17.0-py3-none-any.whl.metadata (1.6 kB)\n",
            "Requirement already satisfied: astunparse>=1.6.0 in /home/hjakkamk@ad.analog.com/refs/.venv/lib/python3.10/site-packages (from tensorflow>=2.16->tensorflow-probability[tf]) (1.6.3)\n",
            "Requirement already satisfied: flatbuffers>=24.3.25 in /home/hjakkamk@ad.analog.com/refs/.venv/lib/python3.10/site-packages (from tensorflow>=2.16->tensorflow-probability[tf]) (24.3.25)\n",
            "Requirement already satisfied: google-pasta>=0.1.1 in /home/hjakkamk@ad.analog.com/refs/.venv/lib/python3.10/site-packages (from tensorflow>=2.16->tensorflow-probability[tf]) (0.2.0)\n",
            "Requirement already satisfied: h5py>=3.10.0 in /home/hjakkamk@ad.analog.com/refs/.venv/lib/python3.10/site-packages (from tensorflow>=2.16->tensorflow-probability[tf]) (3.11.0)\n",
            "Requirement already satisfied: libclang>=13.0.0 in /home/hjakkamk@ad.analog.com/refs/.venv/lib/python3.10/site-packages (from tensorflow>=2.16->tensorflow-probability[tf]) (18.1.1)\n",
            "Requirement already satisfied: ml-dtypes<0.5.0,>=0.3.1 in /home/hjakkamk@ad.analog.com/refs/.venv/lib/python3.10/site-packages (from tensorflow>=2.16->tensorflow-probability[tf]) (0.4.1)\n",
            "Requirement already satisfied: opt-einsum>=2.3.2 in /home/hjakkamk@ad.analog.com/refs/.venv/lib/python3.10/site-packages (from tensorflow>=2.16->tensorflow-probability[tf]) (3.3.0)\n",
            "Requirement already satisfied: packaging in /home/hjakkamk@ad.analog.com/refs/.venv/lib/python3.10/site-packages (from tensorflow>=2.16->tensorflow-probability[tf]) (24.1)\n",
            "Requirement already satisfied: protobuf!=4.21.0,!=4.21.1,!=4.21.2,!=4.21.3,!=4.21.4,!=4.21.5,<5.0.0dev,>=3.20.3 in /home/hjakkamk@ad.analog.com/refs/.venv/lib/python3.10/site-packages (from tensorflow>=2.16->tensorflow-probability[tf]) (4.25.4)\n",
            "Requirement already satisfied: requests<3,>=2.21.0 in /home/hjakkamk@ad.analog.com/refs/.venv/lib/python3.10/site-packages (from tensorflow>=2.16->tensorflow-probability[tf]) (2.32.3)\n",
            "Requirement already satisfied: setuptools in /home/hjakkamk@ad.analog.com/refs/.venv/lib/python3.10/site-packages (from tensorflow>=2.16->tensorflow-probability[tf]) (74.1.2)\n",
            "Requirement already satisfied: termcolor>=1.1.0 in /home/hjakkamk@ad.analog.com/refs/.venv/lib/python3.10/site-packages (from tensorflow>=2.16->tensorflow-probability[tf]) (2.4.0)\n",
            "Requirement already satisfied: typing-extensions>=3.6.6 in /home/hjakkamk@ad.analog.com/refs/.venv/lib/python3.10/site-packages (from tensorflow>=2.16->tensorflow-probability[tf]) (4.12.2)\n",
            "Requirement already satisfied: wrapt>=1.11.0 in /home/hjakkamk@ad.analog.com/refs/.venv/lib/python3.10/site-packages (from tensorflow>=2.16->tensorflow-probability[tf]) (1.16.0)\n",
            "Requirement already satisfied: grpcio<2.0,>=1.24.3 in /home/hjakkamk@ad.analog.com/refs/.venv/lib/python3.10/site-packages (from tensorflow>=2.16->tensorflow-probability[tf]) (1.66.1)\n",
            "Requirement already satisfied: tensorboard<2.18,>=2.17 in /home/hjakkamk@ad.analog.com/refs/.venv/lib/python3.10/site-packages (from tensorflow>=2.16->tensorflow-probability[tf]) (2.17.1)\n",
            "Requirement already satisfied: keras>=3.2.0 in /home/hjakkamk@ad.analog.com/refs/.venv/lib/python3.10/site-packages (from tensorflow>=2.16->tensorflow-probability[tf]) (3.5.0)\n",
            "Requirement already satisfied: tensorflow-io-gcs-filesystem>=0.23.1 in /home/hjakkamk@ad.analog.com/refs/.venv/lib/python3.10/site-packages (from tensorflow>=2.16->tensorflow-probability[tf]) (0.37.1)\n",
            "Requirement already satisfied: wheel<1.0,>=0.23.0 in /home/hjakkamk@ad.analog.com/refs/.venv/lib/python3.10/site-packages (from astunparse>=1.6.0->tensorflow>=2.16->tensorflow-probability[tf]) (0.44.0)\n",
            "Requirement already satisfied: rich in /home/hjakkamk@ad.analog.com/refs/.venv/lib/python3.10/site-packages (from keras>=3.2.0->tensorflow>=2.16->tensorflow-probability[tf]) (13.8.1)\n",
            "Requirement already satisfied: namex in /home/hjakkamk@ad.analog.com/refs/.venv/lib/python3.10/site-packages (from keras>=3.2.0->tensorflow>=2.16->tensorflow-probability[tf]) (0.0.8)\n",
            "Requirement already satisfied: optree in /home/hjakkamk@ad.analog.com/refs/.venv/lib/python3.10/site-packages (from keras>=3.2.0->tensorflow>=2.16->tensorflow-probability[tf]) (0.12.1)\n",
            "Requirement already satisfied: charset-normalizer<4,>=2 in /home/hjakkamk@ad.analog.com/refs/.venv/lib/python3.10/site-packages (from requests<3,>=2.21.0->tensorflow>=2.16->tensorflow-probability[tf]) (3.3.2)\n",
            "Requirement already satisfied: idna<4,>=2.5 in /home/hjakkamk@ad.analog.com/refs/.venv/lib/python3.10/site-packages (from requests<3,>=2.21.0->tensorflow>=2.16->tensorflow-probability[tf]) (3.9)\n",
            "Requirement already satisfied: urllib3<3,>=1.21.1 in /home/hjakkamk@ad.analog.com/refs/.venv/lib/python3.10/site-packages (from requests<3,>=2.21.0->tensorflow>=2.16->tensorflow-probability[tf]) (2.2.3)\n",
            "Requirement already satisfied: certifi>=2017.4.17 in /home/hjakkamk@ad.analog.com/refs/.venv/lib/python3.10/site-packages (from requests<3,>=2.21.0->tensorflow>=2.16->tensorflow-probability[tf]) (2024.8.30)\n",
            "Requirement already satisfied: markdown>=2.6.8 in /home/hjakkamk@ad.analog.com/refs/.venv/lib/python3.10/site-packages (from tensorboard<2.18,>=2.17->tensorflow>=2.16->tensorflow-probability[tf]) (3.7)\n",
            "Requirement already satisfied: tensorboard-data-server<0.8.0,>=0.7.0 in /home/hjakkamk@ad.analog.com/refs/.venv/lib/python3.10/site-packages (from tensorboard<2.18,>=2.17->tensorflow>=2.16->tensorflow-probability[tf]) (0.7.2)\n",
            "Requirement already satisfied: werkzeug>=1.0.1 in /home/hjakkamk@ad.analog.com/refs/.venv/lib/python3.10/site-packages (from tensorboard<2.18,>=2.17->tensorflow>=2.16->tensorflow-probability[tf]) (3.0.4)\n",
            "Requirement already satisfied: MarkupSafe>=2.1.1 in /home/hjakkamk@ad.analog.com/refs/.venv/lib/python3.10/site-packages (from werkzeug>=1.0.1->tensorboard<2.18,>=2.17->tensorflow>=2.16->tensorflow-probability[tf]) (2.1.5)\n",
            "Requirement already satisfied: markdown-it-py>=2.2.0 in /home/hjakkamk@ad.analog.com/refs/.venv/lib/python3.10/site-packages (from rich->keras>=3.2.0->tensorflow>=2.16->tensorflow-probability[tf]) (3.0.0)\n",
            "Requirement already satisfied: pygments<3.0.0,>=2.13.0 in /home/hjakkamk@ad.analog.com/refs/.venv/lib/python3.10/site-packages (from rich->keras>=3.2.0->tensorflow>=2.16->tensorflow-probability[tf]) (2.18.0)\n",
            "Requirement already satisfied: mdurl~=0.1 in /home/hjakkamk@ad.analog.com/refs/.venv/lib/python3.10/site-packages (from markdown-it-py>=2.2.0->rich->keras>=3.2.0->tensorflow>=2.16->tensorflow-probability[tf]) (0.1.2)\n",
            "Downloading tf_keras-2.17.0-py3-none-any.whl (1.7 MB)\n",
            "\u001b[2K   \u001b[90m━━━━━━━━━━━━━━━━━━━━━━━━━━━━━━━━━━━━━━━━\u001b[0m \u001b[32m1.7/1.7 MB\u001b[0m \u001b[31m6.7 MB/s\u001b[0m eta \u001b[36m0:00:00\u001b[0ma \u001b[36m0:00:01\u001b[0m\n",
            "\u001b[?25hInstalling collected packages: tf-keras\n",
            "Successfully installed tf-keras-2.17.0\n"
          ]
        }
      ],
      "source": [
        "!pip install tensorflow-probability[tf]"
      ]
    },
    {
      "cell_type": "markdown",
      "metadata": {
        "id": "xLEW1az535Z7"
      },
      "source": [
        "### Import required libraries and classes"
      ]
    },
    {
      "cell_type": "code",
      "execution_count": 1,
      "metadata": {
        "id": "_EH_Sd64nE9p"
      },
      "outputs": [
        {
          "name": "stderr",
          "output_type": "stream",
          "text": [
            "2024-09-14 11:16:01.665364: I tensorflow/core/util/port.cc:153] oneDNN custom operations are on. You may see slightly different numerical results due to floating-point round-off errors from different computation orders. To turn them off, set the environment variable `TF_ENABLE_ONEDNN_OPTS=0`.\n",
            "2024-09-14 11:16:01.676266: E external/local_xla/xla/stream_executor/cuda/cuda_fft.cc:485] Unable to register cuFFT factory: Attempting to register factory for plugin cuFFT when one has already been registered\n",
            "2024-09-14 11:16:01.688664: E external/local_xla/xla/stream_executor/cuda/cuda_dnn.cc:8454] Unable to register cuDNN factory: Attempting to register factory for plugin cuDNN when one has already been registered\n",
            "2024-09-14 11:16:01.692341: E external/local_xla/xla/stream_executor/cuda/cuda_blas.cc:1452] Unable to register cuBLAS factory: Attempting to register factory for plugin cuBLAS when one has already been registered\n",
            "2024-09-14 11:16:01.702794: I tensorflow/core/platform/cpu_feature_guard.cc:210] This TensorFlow binary is optimized to use available CPU instructions in performance-critical operations.\n",
            "To enable the following instructions: AVX2 AVX512F AVX512_VNNI AVX512_BF16 AVX512_FP16 AVX_VNNI AMX_TILE AMX_INT8 AMX_BF16 FMA, in other operations, rebuild TensorFlow with the appropriate compiler flags.\n",
            "2024-09-14 11:16:02.297783: W tensorflow/compiler/tf2tensorrt/utils/py_utils.cc:38] TF-TRT Warning: Could not find TensorRT\n",
            "/home/hjakkamk@ad.analog.com/refs/.venv/lib/python3.10/site-packages/tensorflow_addons/utils/tfa_eol_msg.py:23: UserWarning: \n",
            "\n",
            "TensorFlow Addons (TFA) has ended development and introduction of new features.\n",
            "TFA has entered a minimal maintenance and release mode until a planned end of life in May 2024.\n",
            "Please modify downstream libraries to take dependencies from other repositories in our TensorFlow community (e.g. Keras, Keras-CV, and Keras-NLP). \n",
            "\n",
            "For more information see: https://github.com/tensorflow/addons/issues/2807 \n",
            "\n",
            "  warnings.warn(\n",
            "/home/hjakkamk@ad.analog.com/refs/.venv/lib/python3.10/site-packages/tensorflow_addons/utils/ensure_tf_install.py:53: UserWarning: Tensorflow Addons supports using Python ops for all Tensorflow versions above or equal to 2.13.0 and strictly below 2.16.0 (nightly versions are not supported). \n",
            " The versions of TensorFlow you are currently using is 2.17.0 and is not supported. \n",
            "Some things might work, some things might not.\n",
            "If you were to encounter a bug, do not file an issue.\n",
            "If you want to make sure you're using a tested and supported configuration, either change the TensorFlow version or the TensorFlow Addons's version. \n",
            "You can find the compatibility matrix in TensorFlow Addon's readme:\n",
            "https://github.com/tensorflow/addons\n",
            "  warnings.warn(\n"
          ]
        },
        {
          "ename": "ModuleNotFoundError",
          "evalue": "No module named 'keras.src.engine'",
          "output_type": "error",
          "traceback": [
            "\u001b[0;31m---------------------------------------------------------------------------\u001b[0m",
            "\u001b[0;31mModuleNotFoundError\u001b[0m                       Traceback (most recent call last)",
            "Cell \u001b[0;32mIn[1], line 9\u001b[0m\n\u001b[1;32m      6\u001b[0m \u001b[38;5;28;01mfrom\u001b[39;00m \u001b[38;5;21;01mtorch\u001b[39;00m\u001b[38;5;21;01m.\u001b[39;00m\u001b[38;5;21;01mautograd\u001b[39;00m \u001b[38;5;28;01mimport\u001b[39;00m Variable\n\u001b[1;32m      8\u001b[0m \u001b[38;5;28;01mimport\u001b[39;00m \u001b[38;5;21;01monnx\u001b[39;00m\n\u001b[0;32m----> 9\u001b[0m \u001b[38;5;28;01mfrom\u001b[39;00m \u001b[38;5;21;01monnx_tf\u001b[39;00m\u001b[38;5;21;01m.\u001b[39;00m\u001b[38;5;21;01mbackend\u001b[39;00m \u001b[38;5;28;01mimport\u001b[39;00m prepare\n",
            "File \u001b[0;32m~/refs/Convert-PyTorch-model-to-Tensorflow/onnx-tensorflow/onnx_tf/__init__.py:1\u001b[0m\n\u001b[0;32m----> 1\u001b[0m \u001b[38;5;28;01mfrom\u001b[39;00m \u001b[38;5;21;01m.\u001b[39;00m \u001b[38;5;28;01mimport\u001b[39;00m backend\n\u001b[1;32m      2\u001b[0m \u001b[38;5;28;01mfrom\u001b[39;00m \u001b[38;5;21;01m.\u001b[39;00m\u001b[38;5;21;01mversion\u001b[39;00m \u001b[38;5;28;01mimport\u001b[39;00m version \u001b[38;5;28;01mas\u001b[39;00m __version__\n",
            "File \u001b[0;32m~/refs/Convert-PyTorch-model-to-Tensorflow/onnx-tensorflow/onnx_tf/backend.py:28\u001b[0m\n\u001b[1;32m     26\u001b[0m \u001b[38;5;28;01mfrom\u001b[39;00m \u001b[38;5;21;01monnx_tf\u001b[39;00m\u001b[38;5;21;01m.\u001b[39;00m\u001b[38;5;21;01mcommon\u001b[39;00m \u001b[38;5;28;01mimport\u001b[39;00m get_unique_suffix\n\u001b[1;32m     27\u001b[0m \u001b[38;5;28;01mfrom\u001b[39;00m \u001b[38;5;21;01monnx_tf\u001b[39;00m\u001b[38;5;21;01m.\u001b[39;00m\u001b[38;5;21;01mcommon\u001b[39;00m \u001b[38;5;28;01mimport\u001b[39;00m supports_device \u001b[38;5;28;01mas\u001b[39;00m common_supports_device\n\u001b[0;32m---> 28\u001b[0m \u001b[38;5;28;01mfrom\u001b[39;00m \u001b[38;5;21;01monnx_tf\u001b[39;00m\u001b[38;5;21;01m.\u001b[39;00m\u001b[38;5;21;01mcommon\u001b[39;00m\u001b[38;5;21;01m.\u001b[39;00m\u001b[38;5;21;01mhandler_helper\u001b[39;00m \u001b[38;5;28;01mimport\u001b[39;00m get_all_backend_handlers\n\u001b[1;32m     29\u001b[0m \u001b[38;5;28;01mfrom\u001b[39;00m \u001b[38;5;21;01monnx_tf\u001b[39;00m\u001b[38;5;21;01m.\u001b[39;00m\u001b[38;5;21;01mpb_wrapper\u001b[39;00m \u001b[38;5;28;01mimport\u001b[39;00m OnnxNode\n\u001b[1;32m     30\u001b[0m \u001b[38;5;28;01mfrom\u001b[39;00m \u001b[38;5;21;01monnx_tf\u001b[39;00m\u001b[38;5;21;01m.\u001b[39;00m\u001b[38;5;21;01mbackend_tf_module\u001b[39;00m \u001b[38;5;28;01mimport\u001b[39;00m BackendTFModule, TFModule\n",
            "File \u001b[0;32m~/refs/Convert-PyTorch-model-to-Tensorflow/onnx-tensorflow/onnx_tf/common/handler_helper.py:3\u001b[0m\n\u001b[1;32m      1\u001b[0m \u001b[38;5;28;01mfrom\u001b[39;00m \u001b[38;5;21;01monnx\u001b[39;00m \u001b[38;5;28;01mimport\u001b[39;00m defs\n\u001b[0;32m----> 3\u001b[0m \u001b[38;5;28;01mfrom\u001b[39;00m \u001b[38;5;21;01monnx_tf\u001b[39;00m\u001b[38;5;21;01m.\u001b[39;00m\u001b[38;5;21;01mhandlers\u001b[39;00m\u001b[38;5;21;01m.\u001b[39;00m\u001b[38;5;21;01mbackend\u001b[39;00m \u001b[38;5;28;01mimport\u001b[39;00m \u001b[38;5;241m*\u001b[39m  \u001b[38;5;66;03m# noqa\u001b[39;00m\n\u001b[1;32m      4\u001b[0m \u001b[38;5;28;01mfrom\u001b[39;00m \u001b[38;5;21;01monnx_tf\u001b[39;00m\u001b[38;5;21;01m.\u001b[39;00m\u001b[38;5;21;01mhandlers\u001b[39;00m\u001b[38;5;21;01m.\u001b[39;00m\u001b[38;5;21;01mbackend_handler\u001b[39;00m \u001b[38;5;28;01mimport\u001b[39;00m BackendHandler\n\u001b[1;32m      5\u001b[0m \u001b[38;5;28;01mimport\u001b[39;00m \u001b[38;5;21;01monnx_tf\u001b[39;00m\u001b[38;5;21;01m.\u001b[39;00m\u001b[38;5;21;01mcommon\u001b[39;00m \u001b[38;5;28;01mas\u001b[39;00m \u001b[38;5;21;01mcommon\u001b[39;00m\n",
            "File \u001b[0;32m~/refs/Convert-PyTorch-model-to-Tensorflow/onnx-tensorflow/onnx_tf/handlers/backend/hardmax.py:3\u001b[0m\n\u001b[1;32m      1\u001b[0m \u001b[38;5;28;01mimport\u001b[39;00m \u001b[38;5;21;01mnumpy\u001b[39;00m \u001b[38;5;28;01mas\u001b[39;00m \u001b[38;5;21;01mnp\u001b[39;00m\n\u001b[1;32m      2\u001b[0m \u001b[38;5;28;01mimport\u001b[39;00m \u001b[38;5;21;01mtensorflow\u001b[39;00m \u001b[38;5;28;01mas\u001b[39;00m \u001b[38;5;21;01mtf\u001b[39;00m\n\u001b[0;32m----> 3\u001b[0m \u001b[38;5;28;01mimport\u001b[39;00m \u001b[38;5;21;01mtensorflow_addons\u001b[39;00m \u001b[38;5;28;01mas\u001b[39;00m \u001b[38;5;21;01mtfa\u001b[39;00m\n\u001b[1;32m      5\u001b[0m \u001b[38;5;28;01mfrom\u001b[39;00m \u001b[38;5;21;01monnx_tf\u001b[39;00m\u001b[38;5;21;01m.\u001b[39;00m\u001b[38;5;21;01mhandlers\u001b[39;00m\u001b[38;5;21;01m.\u001b[39;00m\u001b[38;5;21;01mbackend_handler\u001b[39;00m \u001b[38;5;28;01mimport\u001b[39;00m BackendHandler\n\u001b[1;32m      6\u001b[0m \u001b[38;5;28;01mfrom\u001b[39;00m \u001b[38;5;21;01monnx_tf\u001b[39;00m\u001b[38;5;21;01m.\u001b[39;00m\u001b[38;5;21;01mhandlers\u001b[39;00m\u001b[38;5;21;01m.\u001b[39;00m\u001b[38;5;21;01mhandler\u001b[39;00m \u001b[38;5;28;01mimport\u001b[39;00m onnx_op\n",
            "File \u001b[0;32m~/refs/.venv/lib/python3.10/site-packages/tensorflow_addons/__init__.py:23\u001b[0m\n\u001b[1;32m     20\u001b[0m _check_tf_version()\n\u001b[1;32m     22\u001b[0m \u001b[38;5;66;03m# Local project imports\u001b[39;00m\n\u001b[0;32m---> 23\u001b[0m \u001b[38;5;28;01mfrom\u001b[39;00m \u001b[38;5;21;01mtensorflow_addons\u001b[39;00m \u001b[38;5;28;01mimport\u001b[39;00m activations\n\u001b[1;32m     24\u001b[0m \u001b[38;5;28;01mfrom\u001b[39;00m \u001b[38;5;21;01mtensorflow_addons\u001b[39;00m \u001b[38;5;28;01mimport\u001b[39;00m callbacks\n\u001b[1;32m     25\u001b[0m \u001b[38;5;28;01mfrom\u001b[39;00m \u001b[38;5;21;01mtensorflow_addons\u001b[39;00m \u001b[38;5;28;01mimport\u001b[39;00m image\n",
            "File \u001b[0;32m~/refs/.venv/lib/python3.10/site-packages/tensorflow_addons/activations/__init__.py:17\u001b[0m\n\u001b[1;32m      1\u001b[0m \u001b[38;5;66;03m# Copyright 2019 The TensorFlow Authors. All Rights Reserved.\u001b[39;00m\n\u001b[1;32m      2\u001b[0m \u001b[38;5;66;03m#\u001b[39;00m\n\u001b[1;32m      3\u001b[0m \u001b[38;5;66;03m# Licensed under the Apache License, Version 2.0 (the \"License\");\u001b[39;00m\n\u001b[0;32m   (...)\u001b[0m\n\u001b[1;32m     13\u001b[0m \u001b[38;5;66;03m# limitations under the License.\u001b[39;00m\n\u001b[1;32m     14\u001b[0m \u001b[38;5;66;03m# ==============================================================================\u001b[39;00m\n\u001b[1;32m     15\u001b[0m \u001b[38;5;124;03m\"\"\"Additional activation functions.\"\"\"\u001b[39;00m\n\u001b[0;32m---> 17\u001b[0m \u001b[38;5;28;01mfrom\u001b[39;00m \u001b[38;5;21;01mtensorflow_addons\u001b[39;00m\u001b[38;5;21;01m.\u001b[39;00m\u001b[38;5;21;01mactivations\u001b[39;00m\u001b[38;5;21;01m.\u001b[39;00m\u001b[38;5;21;01mgelu\u001b[39;00m \u001b[38;5;28;01mimport\u001b[39;00m gelu\n\u001b[1;32m     18\u001b[0m \u001b[38;5;28;01mfrom\u001b[39;00m \u001b[38;5;21;01mtensorflow_addons\u001b[39;00m\u001b[38;5;21;01m.\u001b[39;00m\u001b[38;5;21;01mactivations\u001b[39;00m\u001b[38;5;21;01m.\u001b[39;00m\u001b[38;5;21;01mhardshrink\u001b[39;00m \u001b[38;5;28;01mimport\u001b[39;00m hardshrink\n\u001b[1;32m     19\u001b[0m \u001b[38;5;28;01mfrom\u001b[39;00m \u001b[38;5;21;01mtensorflow_addons\u001b[39;00m\u001b[38;5;21;01m.\u001b[39;00m\u001b[38;5;21;01mactivations\u001b[39;00m\u001b[38;5;21;01m.\u001b[39;00m\u001b[38;5;21;01mlisht\u001b[39;00m \u001b[38;5;28;01mimport\u001b[39;00m lisht\n",
            "File \u001b[0;32m~/refs/.venv/lib/python3.10/site-packages/tensorflow_addons/activations/gelu.py:19\u001b[0m\n\u001b[1;32m     16\u001b[0m \u001b[38;5;28;01mimport\u001b[39;00m \u001b[38;5;21;01mtensorflow\u001b[39;00m \u001b[38;5;28;01mas\u001b[39;00m \u001b[38;5;21;01mtf\u001b[39;00m\n\u001b[1;32m     17\u001b[0m \u001b[38;5;28;01mimport\u001b[39;00m \u001b[38;5;21;01mwarnings\u001b[39;00m\n\u001b[0;32m---> 19\u001b[0m \u001b[38;5;28;01mfrom\u001b[39;00m \u001b[38;5;21;01mtensorflow_addons\u001b[39;00m\u001b[38;5;21;01m.\u001b[39;00m\u001b[38;5;21;01mutils\u001b[39;00m\u001b[38;5;21;01m.\u001b[39;00m\u001b[38;5;21;01mtypes\u001b[39;00m \u001b[38;5;28;01mimport\u001b[39;00m TensorLike\n\u001b[1;32m     22\u001b[0m \u001b[38;5;129m@tf\u001b[39m\u001b[38;5;241m.\u001b[39mkeras\u001b[38;5;241m.\u001b[39mutils\u001b[38;5;241m.\u001b[39mregister_keras_serializable(package\u001b[38;5;241m=\u001b[39m\u001b[38;5;124m\"\u001b[39m\u001b[38;5;124mAddons\u001b[39m\u001b[38;5;124m\"\u001b[39m)\n\u001b[1;32m     23\u001b[0m \u001b[38;5;28;01mdef\u001b[39;00m \u001b[38;5;21mgelu\u001b[39m(x: TensorLike, approximate: \u001b[38;5;28mbool\u001b[39m \u001b[38;5;241m=\u001b[39m \u001b[38;5;28;01mTrue\u001b[39;00m) \u001b[38;5;241m-\u001b[39m\u001b[38;5;241m>\u001b[39m tf\u001b[38;5;241m.\u001b[39mTensor:\n\u001b[1;32m     24\u001b[0m \u001b[38;5;250m    \u001b[39m\u001b[38;5;124mr\u001b[39m\u001b[38;5;124;03m\"\"\"Gaussian Error Linear Unit.\u001b[39;00m\n\u001b[1;32m     25\u001b[0m \n\u001b[1;32m     26\u001b[0m \u001b[38;5;124;03m    Computes gaussian error linear:\u001b[39;00m\n\u001b[0;32m   (...)\u001b[0m\n\u001b[1;32m     65\u001b[0m \u001b[38;5;124;03m        A `Tensor`. Has the same type as `x`.\u001b[39;00m\n\u001b[1;32m     66\u001b[0m \u001b[38;5;124;03m    \"\"\"\u001b[39;00m\n",
            "File \u001b[0;32m~/refs/.venv/lib/python3.10/site-packages/tensorflow_addons/utils/types.py:29\u001b[0m\n\u001b[1;32m     25\u001b[0m \u001b[38;5;66;03m# TODO: Remove once https://github.com/tensorflow/tensorflow/issues/44613 is resolved\u001b[39;00m\n\u001b[1;32m     26\u001b[0m \u001b[38;5;28;01mif\u001b[39;00m Version(tf\u001b[38;5;241m.\u001b[39m__version__)\u001b[38;5;241m.\u001b[39mrelease \u001b[38;5;241m>\u001b[39m\u001b[38;5;241m=\u001b[39m Version(\u001b[38;5;124m\"\u001b[39m\u001b[38;5;124m2.13\u001b[39m\u001b[38;5;124m\"\u001b[39m)\u001b[38;5;241m.\u001b[39mrelease:\n\u001b[1;32m     27\u001b[0m     \u001b[38;5;66;03m# New versions of Keras require importing from `keras.src` when\u001b[39;00m\n\u001b[1;32m     28\u001b[0m     \u001b[38;5;66;03m# importing internal symbols.\u001b[39;00m\n\u001b[0;32m---> 29\u001b[0m     \u001b[38;5;28;01mfrom\u001b[39;00m \u001b[38;5;21;01mkeras\u001b[39;00m\u001b[38;5;21;01m.\u001b[39;00m\u001b[38;5;21;01msrc\u001b[39;00m\u001b[38;5;21;01m.\u001b[39;00m\u001b[38;5;21;01mengine\u001b[39;00m \u001b[38;5;28;01mimport\u001b[39;00m keras_tensor\n\u001b[1;32m     30\u001b[0m \u001b[38;5;28;01melif\u001b[39;00m Version(tf\u001b[38;5;241m.\u001b[39m__version__)\u001b[38;5;241m.\u001b[39mrelease \u001b[38;5;241m>\u001b[39m\u001b[38;5;241m=\u001b[39m Version(\u001b[38;5;124m\"\u001b[39m\u001b[38;5;124m2.5\u001b[39m\u001b[38;5;124m\"\u001b[39m)\u001b[38;5;241m.\u001b[39mrelease:\n\u001b[1;32m     31\u001b[0m     \u001b[38;5;28;01mfrom\u001b[39;00m \u001b[38;5;21;01mkeras\u001b[39;00m\u001b[38;5;21;01m.\u001b[39;00m\u001b[38;5;21;01mengine\u001b[39;00m \u001b[38;5;28;01mimport\u001b[39;00m keras_tensor\n",
            "\u001b[0;31mModuleNotFoundError\u001b[0m: No module named 'keras.src.engine'"
          ]
        }
      ],
      "source": [
        "import torch\n",
        "import torch.nn as nn\n",
        "import torch.nn.functional as F\n",
        "import torch.optim as optim\n",
        "from torchvision import datasets, transforms\n",
        "from torch.autograd import Variable\n",
        "\n",
        "import onnx\n",
        "from onnx_tf.backend import prepare"
      ]
    },
    {
      "cell_type": "markdown",
      "metadata": {
        "id": "dFXB_WEC357Z"
      },
      "source": [
        "### Define the model"
      ]
    },
    {
      "cell_type": "code",
      "execution_count": null,
      "metadata": {
        "id": "eU20lt1fwBdj"
      },
      "outputs": [],
      "source": [
        "class Net(nn.Module):\n",
        "    def __init__(self):\n",
        "        super(Net, self).__init__()\n",
        "        self.conv1 = nn.Conv2d(1, 10, kernel_size=5)\n",
        "        self.conv2 = nn.Conv2d(10, 20, kernel_size=5)\n",
        "        self.conv2_drop = nn.Dropout2d()\n",
        "        self.fc1 = nn.Linear(320, 50)\n",
        "        self.fc2 = nn.Linear(50, 10)\n",
        "\n",
        "    def forward(self, x):\n",
        "        x = F.relu(F.max_pool2d(self.conv1(x), 2))\n",
        "        x = F.relu(F.max_pool2d(self.conv2_drop(self.conv2(x)), 2))\n",
        "        x = x.view(-1, 320)\n",
        "        x = F.relu(self.fc1(x))\n",
        "        x = F.dropout(x, training=self.training)\n",
        "        x = self.fc2(x)\n",
        "        return F.log_softmax(x, dim=1)"
      ]
    },
    {
      "cell_type": "markdown",
      "metadata": {
        "id": "QnLPogE636pr"
      },
      "source": [
        "### Create the train and test methods"
      ]
    },
    {
      "cell_type": "code",
      "execution_count": null,
      "metadata": {
        "id": "IC3YcJ2DxTBu"
      },
      "outputs": [],
      "source": [
        "def train(model, device, train_loader, optimizer, epoch):\n",
        "    model.train()\n",
        "    for batch_idx, (data, target) in enumerate(train_loader):\n",
        "        data, target = data.to(device), target.to(device)\n",
        "        optimizer.zero_grad()\n",
        "        output = model(data)\n",
        "        loss = F.nll_loss(output, target)\n",
        "        loss.backward()\n",
        "        optimizer.step()\n",
        "        if batch_idx % 1000 == 0:\n",
        "            print('Train Epoch: {} \\tLoss: {:.6f}'.format(\n",
        "                    epoch,  loss.item()))\n",
        "\n",
        "def test(model, device, test_loader):\n",
        "    model.eval()\n",
        "    test_loss = 0\n",
        "    correct = 0\n",
        "    with torch.no_grad():\n",
        "        for data, target in test_loader:\n",
        "            data, target = data.to(device), target.to(device)\n",
        "            output = model(data)\n",
        "            test_loss += F.nll_loss(output, target, reduction='sum').item() # sum up batch loss\n",
        "            pred = output.max(1, keepdim=True)[1] # get the index of the max log-probability\n",
        "            correct += pred.eq(target.view_as(pred)).sum().item()\n",
        "\n",
        "    test_loss /= len(test_loader.dataset)\n",
        "    print('\\nTest set: Average loss: {:.4f}, Accuracy: {}/{} ({:.0f}%)\\n'.format(\n",
        "        test_loss, correct, len(test_loader.dataset),\n",
        "        100. * correct / len(test_loader.dataset)))\n",
        "    \n"
      ]
    },
    {
      "cell_type": "markdown",
      "metadata": {
        "id": "Pn7NuNjg37UQ"
      },
      "source": [
        "### Download the datasets, normalize them and train the model"
      ]
    },
    {
      "cell_type": "code",
      "execution_count": null,
      "metadata": {
        "colab": {
          "base_uri": "https://localhost:8080/"
        },
        "id": "DSu-horR2kz8",
        "outputId": "3d7a393e-1488-4289-a7d0-e4019d1518a6"
      },
      "outputs": [
        {
          "name": "stdout",
          "output_type": "stream",
          "text": [
            "\n",
            "Test set: Average loss: 0.0763, Accuracy: 9753/10000 (98%)\n",
            "\n",
            "Train Epoch: 5 \tLoss: 0.140425\n",
            "\n",
            "Test set: Average loss: 0.0645, Accuracy: 9788/10000 (98%)\n",
            "\n",
            "Train Epoch: 6 \tLoss: 0.137073\n",
            "\n",
            "Test set: Average loss: 0.0611, Accuracy: 9812/10000 (98%)\n",
            "\n",
            "Train Epoch: 7 \tLoss: 0.343908\n",
            "\n",
            "Test set: Average loss: 0.0549, Accuracy: 9820/10000 (98%)\n",
            "\n",
            "Train Epoch: 8 \tLoss: 0.117892\n",
            "\n",
            "Test set: Average loss: 0.0526, Accuracy: 9828/10000 (98%)\n",
            "\n",
            "Train Epoch: 9 \tLoss: 0.211196\n",
            "\n",
            "Test set: Average loss: 0.0542, Accuracy: 9834/10000 (98%)\n",
            "\n",
            "Train Epoch: 10 \tLoss: 0.159183\n",
            "\n",
            "Test set: Average loss: 0.0492, Accuracy: 9852/10000 (99%)\n",
            "\n",
            "Train Epoch: 11 \tLoss: 0.137455\n",
            "\n",
            "Test set: Average loss: 0.0465, Accuracy: 9857/10000 (99%)\n",
            "\n",
            "Train Epoch: 12 \tLoss: 0.183048\n",
            "\n",
            "Test set: Average loss: 0.0455, Accuracy: 9868/10000 (99%)\n",
            "\n",
            "Train Epoch: 13 \tLoss: 0.193880\n",
            "\n",
            "Test set: Average loss: 0.0448, Accuracy: 9865/10000 (99%)\n",
            "\n",
            "Train Epoch: 14 \tLoss: 0.028933\n",
            "\n",
            "Test set: Average loss: 0.0445, Accuracy: 9877/10000 (99%)\n",
            "\n",
            "Train Epoch: 15 \tLoss: 0.113090\n",
            "\n",
            "Test set: Average loss: 0.0422, Accuracy: 9871/10000 (99%)\n",
            "\n",
            "Train Epoch: 16 \tLoss: 0.091770\n",
            "\n",
            "Test set: Average loss: 0.0434, Accuracy: 9871/10000 (99%)\n",
            "\n",
            "Train Epoch: 17 \tLoss: 0.086220\n",
            "\n",
            "Test set: Average loss: 0.0401, Accuracy: 9883/10000 (99%)\n",
            "\n",
            "Train Epoch: 18 \tLoss: 0.076834\n",
            "\n",
            "Test set: Average loss: 0.0381, Accuracy: 9884/10000 (99%)\n",
            "\n",
            "Train Epoch: 19 \tLoss: 0.196543\n",
            "\n",
            "Test set: Average loss: 0.0380, Accuracy: 9877/10000 (99%)\n",
            "\n",
            "Train Epoch: 20 \tLoss: 0.082292\n",
            "\n",
            "Test set: Average loss: 0.0405, Accuracy: 9881/10000 (99%)\n",
            "\n",
            "Train Epoch: 0 \tLoss: 2.377307\n",
            "\n",
            "Test set: Average loss: 0.1973, Accuracy: 9403/10000 (94%)\n",
            "\n",
            "Train Epoch: 1 \tLoss: 0.450073\n",
            "\n",
            "Test set: Average loss: 0.1318, Accuracy: 9581/10000 (96%)\n",
            "\n",
            "Train Epoch: 2 \tLoss: 0.514039\n",
            "\n",
            "Test set: Average loss: 0.0985, Accuracy: 9685/10000 (97%)\n",
            "\n",
            "Train Epoch: 3 \tLoss: 0.171799\n",
            "\n",
            "Test set: Average loss: 0.0833, Accuracy: 9730/10000 (97%)\n",
            "\n",
            "Train Epoch: 4 \tLoss: 0.157794\n",
            "\n",
            "Test set: Average loss: 0.0766, Accuracy: 9758/10000 (98%)\n",
            "\n",
            "Train Epoch: 5 \tLoss: 0.156471\n",
            "\n",
            "Test set: Average loss: 0.0638, Accuracy: 9793/10000 (98%)\n",
            "\n",
            "Train Epoch: 6 \tLoss: 0.143752\n",
            "\n",
            "Test set: Average loss: 0.0617, Accuracy: 9811/10000 (98%)\n",
            "\n",
            "Train Epoch: 7 \tLoss: 0.295539\n",
            "\n",
            "Test set: Average loss: 0.0545, Accuracy: 9831/10000 (98%)\n",
            "\n",
            "Train Epoch: 8 \tLoss: 0.105239\n",
            "\n",
            "Test set: Average loss: 0.0528, Accuracy: 9837/10000 (98%)\n",
            "\n",
            "Train Epoch: 9 \tLoss: 0.181777\n",
            "\n",
            "Test set: Average loss: 0.0539, Accuracy: 9832/10000 (98%)\n",
            "\n",
            "Train Epoch: 10 \tLoss: 0.133470\n",
            "\n",
            "Test set: Average loss: 0.0491, Accuracy: 9862/10000 (99%)\n",
            "\n",
            "Train Epoch: 11 \tLoss: 0.131326\n",
            "\n",
            "Test set: Average loss: 0.0466, Accuracy: 9857/10000 (99%)\n",
            "\n",
            "Train Epoch: 12 \tLoss: 0.186313\n",
            "\n",
            "Test set: Average loss: 0.0462, Accuracy: 9866/10000 (99%)\n",
            "\n",
            "Train Epoch: 13 \tLoss: 0.206141\n",
            "\n",
            "Test set: Average loss: 0.0445, Accuracy: 9863/10000 (99%)\n",
            "\n",
            "Train Epoch: 14 \tLoss: 0.034316\n",
            "\n",
            "Test set: Average loss: 0.0451, Accuracy: 9881/10000 (99%)\n",
            "\n",
            "Train Epoch: 15 \tLoss: 0.116052\n",
            "\n",
            "Test set: Average loss: 0.0427, Accuracy: 9876/10000 (99%)\n",
            "\n",
            "Train Epoch: 16 \tLoss: 0.091477\n",
            "\n",
            "Test set: Average loss: 0.0432, Accuracy: 9872/10000 (99%)\n",
            "\n",
            "Train Epoch: 17 \tLoss: 0.073883\n",
            "\n",
            "Test set: Average loss: 0.0400, Accuracy: 9885/10000 (99%)\n",
            "\n",
            "Train Epoch: 18 \tLoss: 0.090850\n",
            "\n",
            "Test set: Average loss: 0.0379, Accuracy: 9882/10000 (99%)\n",
            "\n",
            "Train Epoch: 19 \tLoss: 0.201131\n",
            "\n",
            "Test set: Average loss: 0.0372, Accuracy: 9892/10000 (99%)\n",
            "\n",
            "Train Epoch: 20 \tLoss: 0.093583\n",
            "\n",
            "Test set: Average loss: 0.0403, Accuracy: 9885/10000 (99%)\n",
            "\n"
          ]
        }
      ],
      "source": [
        "train_loader = torch.utils.data.DataLoader(\n",
        "    datasets.MNIST('../data', train=True, download=True,\n",
        "                   transform=transforms.Compose([\n",
        "                       transforms.ToTensor(),\n",
        "                       transforms.Normalize((0.1307,), (0.3081,))\n",
        "                   ])),\n",
        "    batch_size=64, shuffle=True)\n",
        "\n",
        "test_loader = torch.utils.data.DataLoader(\n",
        "    datasets.MNIST('../data', train=False, transform=transforms.Compose([\n",
        "                       transforms.ToTensor(),\n",
        "                       transforms.Normalize((0.1307,), (0.3081,))\n",
        "                   ])),\n",
        "    batch_size=1000, shuffle=True)\n",
        "\n",
        "\n",
        "torch.manual_seed(1)\n",
        "device = torch.device(\"cuda\")\n",
        "\n",
        "model = Net().to(device)\n",
        "optimizer = optim.SGD(model.parameters(), lr=0.01, momentum=0.5)\n",
        " \n",
        "for epoch in range(21):\n",
        "    train(model, device, train_loader, optimizer, epoch)\n",
        "    test(model, device, test_loader)\n"
      ]
    },
    {
      "cell_type": "markdown",
      "metadata": {
        "id": "vxpveW_938Og"
      },
      "source": [
        "### Save the Pytorch model"
      ]
    },
    {
      "cell_type": "code",
      "execution_count": null,
      "metadata": {
        "id": "tgNoaZ5zwFa2"
      },
      "outputs": [],
      "source": [
        "torch.save(model.state_dict(), 'mnist.pth')"
      ]
    },
    {
      "cell_type": "markdown",
      "metadata": {
        "id": "IDfDo3HZ38pK"
      },
      "source": [
        "### Load the saved Pytorch model and export it as an ONNX file"
      ]
    },
    {
      "cell_type": "code",
      "execution_count": null,
      "metadata": {
        "id": "x_gYxh35zWjr"
      },
      "outputs": [],
      "source": [
        "trained_model = Net()\n",
        "trained_model.load_state_dict(torch.load('mnist.pth'))\n",
        "\n",
        "dummy_input = Variable(torch.randn(1, 1, 28, 28)) \n",
        "torch.onnx.export(trained_model, dummy_input, \"mnist.onnx\")"
      ]
    },
    {
      "cell_type": "markdown",
      "metadata": {
        "id": "675zGIJ_5x3O"
      },
      "source": [
        "### Load the ONNX file and import it into Tensorflow"
      ]
    },
    {
      "cell_type": "code",
      "execution_count": null,
      "metadata": {
        "id": "KjdEU-496qUd"
      },
      "outputs": [],
      "source": [
        "# Load the ONNX file\n",
        "model = onnx.load('mnist.onnx')\n",
        "\n",
        "# Import the ONNX model to Tensorflow\n",
        "tf_rep = prepare(model)"
      ]
    },
    {
      "cell_type": "markdown",
      "metadata": {
        "id": "Q2Pfaw1b5yeE"
      },
      "source": [
        "### Run and test the Tensorflow model"
      ]
    },
    {
      "cell_type": "code",
      "execution_count": null,
      "metadata": {
        "colab": {
          "base_uri": "https://localhost:8080/",
          "height": 160
        },
        "id": "YHlLIajoxcSn",
        "outputId": "cb2de210-234a-4b2e-9e41-66fff53522bb"
      },
      "outputs": [
        {
          "name": "stdout",
          "output_type": "stream",
          "text": [
            "Image 1:\n"
          ]
        },
        {
          "data": {
            "image/png": "[encoded data removed]",
            "text/plain": [
              "<PIL.Image.Image image mode=L size=28x28 at 0x7FDD394C8C50>"
            ]
          },
          "metadata": {
            "tags": []
          },
          "output_type": "display_data"
        },
        {
          "name": "stdout",
          "output_type": "stream",
          "text": [
            "The digit is classified as  2\n",
            "------------------------------------------------------------------------------\n",
            "Image 2:\n"
          ]
        },
        {
          "data": {
            "image/png": "[encoded data removed]",
            "text/plain": [
              "<PIL.Image.Image image mode=L size=28x28 at 0x7FDD3C234D10>"
            ]
          },
          "metadata": {
            "tags": []
          },
          "output_type": "display_data"
        },
        {
          "name": "stdout",
          "output_type": "stream",
          "text": [
            "The digit is classified as  5\n"
          ]
        }
      ],
      "source": [
        "import numpy as np\n",
        "from IPython.display import display\n",
        "from PIL import Image\n",
        "print('Image 1:')\n",
        "img = Image.open('/content/img1.png').resize((28, 28)).convert('L')\n",
        "display(img)\n",
        "output = tf_rep.run(np.asarray(img, dtype=np.float32)[np.newaxis, np.newaxis, :, :])\n",
        "print('The digit is classified as ', np.argmax(output))\n",
        "print('------------------------------------------------------------------------------')\n",
        "print('Image 2:')\n",
        "img = Image.open('/content/img2.png').resize((28, 28)).convert('L')\n",
        "display(img)\n",
        "output = tf_rep.run(np.asarray(img, dtype=np.float32)[np.newaxis, np.newaxis, :, :])\n",
        "print('The digit is classified as ', np.argmax(output))"
      ]
    },
    {
      "cell_type": "code",
      "execution_count": null,
      "metadata": {
        "colab": {
          "base_uri": "https://localhost:8080/"
        },
        "id": "5aFZScgO-MI2",
        "outputId": "7107da8c-197a-4662-e8fa-5793220b135a"
      },
      "outputs": [
        {
          "name": "stderr",
          "output_type": "stream",
          "text": [
            "WARNING:absl:Found untraced functions such as gen_tensor_dict while saving (showing 1 of 1). These functions will not be directly callable after loading.\n",
            "WARNING:absl:Found untraced functions such as gen_tensor_dict while saving (showing 1 of 1). These functions will not be directly callable after loading.\n"
          ]
        },
        {
          "name": "stdout",
          "output_type": "stream",
          "text": [
            "INFO:tensorflow:Assets written to: mnist.pb/assets\n"
          ]
        },
        {
          "name": "stderr",
          "output_type": "stream",
          "text": [
            "INFO:tensorflow:Assets written to: mnist.pb/assets\n"
          ]
        }
      ],
      "source": [
        "tf_rep.export_graph('mnist.pb')"
      ]
    },
    {
      "cell_type": "code",
      "execution_count": null,
      "metadata": {
        "id": "NOw8u6fNlFdo"
      },
      "outputs": [],
      "source": []
    }
  ],
  "metadata": {
    "accelerator": "GPU",
    "colab": {
      "collapsed_sections": [],
      "name": "Convert PyTorch model to TensorFlow.ipynb",
      "provenance": [],
      "toc_visible": true
    },
    "kernelspec": {
      "display_name": "Python 3",
      "name": "python3"
    },
    "language_info": {
      "codemirror_mode": {
        "name": "ipython",
        "version": 3
      },
      "file_extension": ".py",
      "mimetype": "text/x-python",
      "name": "python",
      "nbconvert_exporter": "python",
      "pygments_lexer": "ipython3",
      "version": "3.10.12"
    }
  },
  "nbformat": 4,
  "nbformat_minor": 0
}
